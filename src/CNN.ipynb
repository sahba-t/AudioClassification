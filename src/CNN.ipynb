{
 "cells": [
  {
   "cell_type": "markdown",
   "source": [
    "# Imports"
   ],
   "metadata": {
    "collapsed": false
   }
  },
  {
   "cell_type": "code",
   "execution_count": 1,
   "metadata": {
    "collapsed": true,
    "pycharm": {
     "is_executing": false
    }
   },
   "outputs": [],
   "source": [
    "import os\n",
    "import librosa\n",
    "import librosa.display\n",
    "import matplotlib.pyplot as plt\n",
    "import tensorflow as tf\n",
    "from tensorflow import keras\n",
    "from tensorflow.keras import layers"
   ]
  },
  {
   "cell_type": "markdown",
   "source": [
    "# Read in Data"
   ],
   "metadata": {
    "collapsed": false
   }
  },
  {
   "cell_type": "code",
   "source": [
    "def read_data(path, f_names):\n",
    "    data = [([], 0)] * len(f_names)  # (data, samp_rate)\n",
    "    for i in range(20):\n",
    "        data[i] = librosa.load(path + f_names[i], sr=None, mono=True)\n",
    "        if i % 125 == 0:\n",
    "            print(type(data[i][0]), type(data[i][1]))\n",
    "            print('num points:', data[i][0].shape, 'samp_rate:', data[i][1])\n",
    "            print()\n",
    "    return data\n",
    "    \n",
    "train_dir = '../res/train/'\n",
    "train_file_names = os.listdir(train_dir)\n",
    "print(\"Number of train .wav files in audio folder:\", len(train_file_names))\n",
    "training_data = read_data(train_dir, train_file_names)\n",
    "print('First 15 are:', training_data[:15])\n",
    "\n",
    "# test_dir = '../res/test/'\n",
    "# test_file_names = os.listdir(test_dir)\n",
    "# print(\"Number of train .wav files in audio folder:\", len(test_file_names))\n",
    "# training_data = read_data(test_dir, test_file_names)\n"
   ],
   "metadata": {
    "collapsed": false,
    "pycharm": {
     "name": "#%%\n",
     "is_executing": false
    }
   },
   "execution_count": 13,
   "outputs": [
    {
     "name": "stdout",
     "text": [
      "Number of train .wav files in audio folder: 2401\n",
      "0\n",
      "<class 'numpy.ndarray'> <class 'int'>\n",
      "num points: (1321967,) samp_rate: 44100\n",
      "\n",
      "1\n",
      "2\n",
      "3\n",
      "4\n",
      "5\n",
      "6\n",
      "7\n",
      "8\n",
      "9\n",
      "10\n",
      "11\n",
      "12\n",
      "13\n",
      "14\n",
      "15\n",
      "16\n",
      "17\n",
      "18\n",
      "19\n",
      "First 15 are: [(array([ 0.        ,  0.        ,  0.        , ..., -0.01446533,\n",
      "        0.03410339,  0.088974  ], dtype=float32), 44100), (array([0.        , 0.        , 0.        , ..., 0.10029602, 0.08744812,\n",
      "       0.06622314], dtype=float32), 44100), (array([ 0.        ,  0.        ,  0.        , ..., -0.10049438,\n",
      "       -0.10464478, -0.09854126], dtype=float32), 44100), (array([0.        , 0.        , 0.        , ..., 0.02584839, 0.02799988,\n",
      "       0.03051758], dtype=float32), 44100), (array([0.        , 0.        , 0.        , ..., 0.04019165, 0.03874207,\n",
      "       0.03314209], dtype=float32), 44100), (array([ 0.        ,  0.        ,  0.        , ..., -0.19737244,\n",
      "       -0.18338013, -0.1726532 ], dtype=float32), 44100), (array([ 0.        ,  0.        ,  0.        , ..., -0.01164246,\n",
      "       -0.01161194, -0.01196289], dtype=float32), 44100), (array([0.        , 0.        , 0.        , ..., 0.07020569, 0.08251953,\n",
      "       0.09481812], dtype=float32), 44100), (array([ 0.        ,  0.        ,  0.        , ..., -0.40618896,\n",
      "       -0.37635803, -0.3361206 ], dtype=float32), 44100), (array([ 0.        ,  0.        ,  0.        , ..., -0.2830963 ,\n",
      "       -0.29466248, -0.29925537], dtype=float32), 44100), (array([0.        , 0.        , 0.        , ..., 0.08930969, 0.09158325,\n",
      "       0.09333801], dtype=float32), 44100), (array([0.        , 0.        , 0.        , ..., 0.08836365, 0.09474182,\n",
      "       0.10121155], dtype=float32), 44100), (array([0.        , 0.        , 0.        , ..., 0.04193115, 0.04200745,\n",
      "       0.04006958], dtype=float32), 44100), (array([ 0.        ,  0.        ,  0.        , ..., -0.04960632,\n",
      "       -0.05439758, -0.05807495], dtype=float32), 44100), (array([0.        , 0.        , 0.        , ..., 0.0322113 , 0.03479004,\n",
      "       0.03642273], dtype=float32), 44100)]\n"
     ],
     "output_type": "stream"
    }
   ]
  },
  {
   "cell_type": "markdown",
   "source": [],
   "metadata": {
    "collapsed": false
   }
  },
  {
   "cell_type": "markdown",
   "source": [],
   "metadata": {
    "collapsed": false
   }
  },
  {
   "cell_type": "markdown",
   "source": [],
   "metadata": {
    "collapsed": false
   }
  }
 ],
 "metadata": {
  "kernelspec": {
   "display_name": "Python 3",
   "language": "python",
   "name": "python3"
  },
  "language_info": {
   "codemirror_mode": {
    "name": "ipython",
    "version": 2
   },
   "file_extension": ".py",
   "mimetype": "text/x-python",
   "name": "python",
   "nbconvert_exporter": "python",
   "pygments_lexer": "ipython2",
   "version": "2.7.6"
  },
  "pycharm": {
   "stem_cell": {
    "cell_type": "raw",
    "source": [],
    "metadata": {
     "collapsed": false
    }
   }
  }
 },
 "nbformat": 4,
 "nbformat_minor": 0
}