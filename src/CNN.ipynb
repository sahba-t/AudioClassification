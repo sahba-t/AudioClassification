{
 "cells": [
  {
   "cell_type": "markdown",
   "source": [
    "# Imports"
   ],
   "metadata": {
    "collapsed": false
   }
  },
  {
   "cell_type": "code",
   "execution_count": 11,
   "metadata": {
    "collapsed": true,
    "pycharm": {
     "is_executing": false
    }
   },
   "outputs": [],
   "source": [
    "import os\n",
    "import numpy as np\n",
    "import pandas as pd\n",
    "import librosa\n",
    "import librosa.display\n",
    "import tensorflow as tf\n",
    "from tensorflow import keras\n",
    "from tensorflow.keras import layers\n",
    "from skimage import io"
   ]
  },
  {
   "cell_type": "markdown",
   "source": [
    "# Prepare Data"
   ],
   "metadata": {
    "collapsed": false
   }
  },
  {
   "cell_type": "code",
   "source": [
    "def read_audio(f_names: list, path: str, has_labels: bool):\n",
    "    data   = [[]] * len(f_names)  # (data, samp_rate)\n",
    "    srs     = [0] * len(f_names)\n",
    "    labels = [0] * len(f_names)\n",
    "    if has_labels:\n",
    "        y_df = pd.read_csv('../res/train.csv', header=0, dtype={'new_id':str, 'genre':np.int16})\n",
    "        y_df = y_df.set_index('new_id')\n",
    "    \n",
    "    for i in range(len(f_names)):\n",
    "        x, sr = librosa.load(path + f_names[i], sr=None, mono=True)\n",
    "        data[i] = x\n",
    "        srs[i] = sr\n",
    "\n",
    "        if has_labels:\n",
    "            labels[i] = y_df.loc[f_names[i][:-4]].genre\n",
    "        if i % 100 == 0:\n",
    "            print('i=', i, '\\t num points:', x.shape, 'samp_rate:', sr)\n",
    "    return (data, srs, labels) if has_labels else (data, srs)\n",
    "\n",
    "def save_audio_as_spectrogram(data, srs, f_names, path):\n",
    "    def scale_minmax(x_audio, min=0.0, max=1.0):\n",
    "        x_audio_std = (x_audio - x_audio.min()) / (x_audio.max() - x_audio.min())\n",
    "        x_audio_scaled = x_audio_std * (max - min) + min\n",
    "        return x_audio_scaled\n",
    "    hop_length = 512  # samples per time sample\n",
    "    time_steps= 2550  # width of data\n",
    "    n_mels = 128  # height\n",
    "\n",
    "    for i in range(len(f_names)):\n",
    "        data[i] = data[i][:time_steps * hop_length]\n",
    "        mels = librosa.feature.melspectrogram(y=data[i], sr=srs[i],\n",
    "                                              n_mels=n_mels,\n",
    "                                              n_fft=hop_length*2, hop_length=hop_length)\n",
    "        mels = np.log(mels + 1e-9) # add small number to avoid log(0)\n",
    "\n",
    "        # min-max scale to fit inside 8-bit range\n",
    "        img = scale_minmax(mels, 0, 255).astype(np.uint8)\n",
    "        img = np.flip(img, axis=0) # put low frequencies at the bottom in image\n",
    "        img = 255 - img # invert. make black==more energy\n",
    "\n",
    "        # save as PNG\n",
    "        io.imsave(path + f_names[i][:-4] + '.png', img)\n",
    "    print(\"Finished! Images saved to\", path)\n",
    "    \n",
    "def read_spectrogram(path: str, f_names: list):\n",
    "    img_data = [(0, 0)] * len(f_names)\n",
    "    for i in range(len(f_names)):\n",
    "        img_data[i] = io.imread(path + f_names[i][:-3] + 'png')\n",
    "        if expected_spectro_shape != img_data[i].shape:\n",
    "            print(img_data[i].shape)\n",
    "    print(\"Spectrogram from\", path, \"read in!\")\n",
    "    return img_data"
   ],
   "metadata": {
    "collapsed": false,
    "pycharm": {
     "name": "#%%\n",
     "is_executing": false
    }
   },
   "execution_count": 20,
   "outputs": []
  },
  {
   "cell_type": "markdown",
   "source": [
    "## Set Path Variables\n"
   ],
   "metadata": {
    "collapsed": false
   }
  },
  {
   "cell_type": "code",
   "execution_count": 6,
   "outputs": [
    {
     "name": "stdout",
     "text": [
      "Number of train .wav files in audio folder: 2400\n",
      "i= 0 \t num points: (1321967,) samp_rate: 44100\n",
      "i= 25 \t num points: (1323119,) samp_rate: 44100\n",
      "i= 50 \t num points: (1323119,) samp_rate: 44100\n",
      "i= 75 \t num points: (1321967,) samp_rate: 44100\n",
      "i= 100 \t num points: (1321967,) samp_rate: 44100\n",
      "i= 125 \t num points: (1321967,) samp_rate: 44100\n",
      "i= 150 \t num points: (1323119,) samp_rate: 44100\n",
      "i= 175 \t num points: (1323119,) samp_rate: 44100\n",
      "i= 200 \t num points: (1321967,) samp_rate: 44100\n",
      "i= 225 \t num points: (1321967,) samp_rate: 44100\n",
      "i= 250 \t num points: (1323119,) samp_rate: 44100\n",
      "i= 275 \t num points: (1323119,) samp_rate: 44100\n",
      "i= 300 \t num points: (1323119,) samp_rate: 44100\n",
      "i= 325 \t num points: (1321967,) samp_rate: 44100\n",
      "i= 350 \t num points: (1323119,) samp_rate: 44100\n",
      "i= 375 \t num points: (1323119,) samp_rate: 44100\n",
      "i= 400 \t num points: (1321967,) samp_rate: 44100\n",
      "i= 425 \t num points: (1323119,) samp_rate: 44100\n",
      "i= 450 \t num points: (1323119,) samp_rate: 44100\n",
      "i= 475 \t num points: (1323119,) samp_rate: 44100\n",
      "i= 500 \t num points: (1321967,) samp_rate: 44100\n",
      "i= 525 \t num points: (1321967,) samp_rate: 44100\n",
      "i= 550 \t num points: (1323119,) samp_rate: 44100\n",
      "i= 575 \t num points: (1323119,) samp_rate: 44100\n",
      "i= 600 \t num points: (1323119,) samp_rate: 44100\n",
      "i= 625 \t num points: (1323119,) samp_rate: 44100\n",
      "i= 650 \t num points: (1323119,) samp_rate: 44100\n",
      "i= 675 \t num points: (1323119,) samp_rate: 44100\n",
      "i= 700 \t num points: (1321967,) samp_rate: 44100\n",
      "i= 725 \t num points: (1323119,) samp_rate: 44100\n",
      "i= 750 \t num points: (1323119,) samp_rate: 44100\n",
      "i= 775 \t num points: (1321967,) samp_rate: 44100\n",
      "i= 800 \t num points: (1321967,) samp_rate: 44100\n",
      "i= 825 \t num points: (1323119,) samp_rate: 44100\n",
      "i= 850 \t num points: (1323119,) samp_rate: 44100\n",
      "i= 875 \t num points: (1321967,) samp_rate: 44100\n",
      "i= 900 \t num points: (1323119,) samp_rate: 44100\n",
      "i= 925 \t num points: (1323119,) samp_rate: 44100\n",
      "i= 950 \t num points: (1323119,) samp_rate: 44100\n",
      "i= 975 \t num points: (1321967,) samp_rate: 44100\n",
      "i= 1000 \t num points: (1321967,) samp_rate: 44100\n",
      "i= 1025 \t num points: (1323119,) samp_rate: 44100\n",
      "i= 1050 \t num points: (1321967,) samp_rate: 44100\n",
      "i= 1075 \t num points: (1321967,) samp_rate: 44100\n",
      "i= 1100 \t num points: (1321967,) samp_rate: 44100\n",
      "i= 1125 \t num points: (1323119,) samp_rate: 44100\n",
      "i= 1150 \t num points: (1321967,) samp_rate: 44100\n",
      "i= 1175 \t num points: (1321967,) samp_rate: 44100\n",
      "i= 1200 \t num points: (1321967,) samp_rate: 44100\n",
      "i= 1225 \t num points: (1323119,) samp_rate: 44100\n",
      "i= 1250 \t num points: (1323119,) samp_rate: 44100\n",
      "i= 1275 \t num points: (1321967,) samp_rate: 44100\n",
      "i= 1300 \t num points: (1323119,) samp_rate: 44100\n",
      "i= 1325 \t num points: (1439471,) samp_rate: 48000\n",
      "i= 1350 \t num points: (1321967,) samp_rate: 44100\n",
      "i= 1375 \t num points: (1321967,) samp_rate: 44100\n",
      "i= 1400 \t num points: (1323119,) samp_rate: 44100\n",
      "i= 1425 \t num points: (1321967,) samp_rate: 44100\n",
      "i= 1450 \t num points: (1321967,) samp_rate: 44100\n",
      "i= 1475 \t num points: (1323119,) samp_rate: 44100\n",
      "i= 1500 \t num points: (1439471,) samp_rate: 48000\n",
      "i= 1525 \t num points: (1323119,) samp_rate: 44100\n",
      "i= 1550 \t num points: (1323119,) samp_rate: 44100\n",
      "i= 1575 \t num points: (1323119,) samp_rate: 44100\n",
      "i= 1600 \t num points: (1323119,) samp_rate: 44100\n",
      "i= 1625 \t num points: (1323119,) samp_rate: 44100\n",
      "i= 1650 \t num points: (1323119,) samp_rate: 44100\n",
      "i= 1675 \t num points: (1321967,) samp_rate: 44100\n",
      "i= 1700 \t num points: (1321967,) samp_rate: 44100\n",
      "i= 1725 \t num points: (1323119,) samp_rate: 44100\n",
      "i= 1750 \t num points: (1321967,) samp_rate: 44100\n",
      "i= 1775 \t num points: (1321967,) samp_rate: 44100\n",
      "i= 1800 \t num points: (1323119,) samp_rate: 44100\n",
      "i= 1825 \t num points: (1321967,) samp_rate: 44100\n",
      "i= 1850 \t num points: (1439471,) samp_rate: 48000\n",
      "i= 1875 \t num points: (1323119,) samp_rate: 44100\n",
      "i= 1900 \t num points: (1321967,) samp_rate: 44100\n",
      "i= 1925 \t num points: (1321967,) samp_rate: 44100\n",
      "i= 1950 \t num points: (1321967,) samp_rate: 44100\n",
      "i= 1975 \t num points: (1321967,) samp_rate: 44100\n",
      "i= 2000 \t num points: (1321967,) samp_rate: 44100\n",
      "i= 2025 \t num points: (1323119,) samp_rate: 44100\n",
      "i= 2050 \t num points: (1323119,) samp_rate: 44100\n",
      "i= 2075 \t num points: (1321967,) samp_rate: 44100\n",
      "i= 2100 \t num points: (1323119,) samp_rate: 44100\n",
      "i= 2125 \t num points: (1323119,) samp_rate: 44100\n",
      "i= 2150 \t num points: (1323119,) samp_rate: 44100\n",
      "i= 2175 \t num points: (1321967,) samp_rate: 44100\n",
      "i= 2200 \t num points: (1321967,) samp_rate: 44100\n",
      "i= 2225 \t num points: (1321967,) samp_rate: 44100\n",
      "i= 2250 \t num points: (1321967,) samp_rate: 44100\n",
      "i= 2275 \t num points: (1323119,) samp_rate: 44100\n",
      "i= 2300 \t num points: (1323119,) samp_rate: 44100\n",
      "i= 2325 \t num points: (1321967,) samp_rate: 44100\n",
      "i= 2350 \t num points: (1323119,) samp_rate: 44100\n",
      "i= 2375 \t num points: (1321967,) samp_rate: 44100\n",
      "First 5 are: [array([ 0.        ,  0.        ,  0.        , ..., -0.01446533,\n",
      "        0.03410339,  0.088974  ], dtype=float32), array([0.        , 0.        , 0.        , ..., 0.10029602, 0.08744812,\n",
      "       0.06622314], dtype=float32), array([ 0.        ,  0.        ,  0.        , ..., -0.10049438,\n",
      "       -0.10464478, -0.09854126], dtype=float32), array([0.        , 0.        , 0.        , ..., 0.02584839, 0.02799988,\n",
      "       0.03051758], dtype=float32), array([0.        , 0.        , 0.        , ..., 0.04019165, 0.03874207,\n",
      "       0.03314209], dtype=float32)] [1, 2, 2, 2, 2]\n"
     ],
     "output_type": "stream"
    }
   ],
   "source": [
    "train_wav_path = '../res/wav/train/'\n",
    "test_wav_path = '../res/wav/test/'\n",
    "train_spectro_path = '../res/spectrogram/train/'\n",
    "test_spectro_path = '../res/spectrogram/test/'\n",
    "\n",
    "train_wav_names = os.listdir(train_wav_path)\n",
    "test_wav_names = os.listdir(test_wav_path)\n",
    "train_spectro_names = os.listdir(train_spectro_path)\n",
    "test_spectro_names = os.listdir(test_spectro_path)\n",
    "\n",
    "expected_spectro_shape = (128, 2551)\n",
    "\n",
    "print(\"num train wavs:\", len(train_wav_names))\n",
    "print(\"num test wavs:\", len(test_wav_names))\n",
    "print(\"num train spectros:\", len(train_spectro_names))\n",
    "print(\"num test spectros:\", len(test_spectro_names))\n",
    "print(\"expected_spectro_shape:\", expected_spectro_shape)"
   ],
   "metadata": {
    "collapsed": false,
    "pycharm": {
     "name": "#%%\n",
     "is_executing": false
    }
   }
  },
  {
   "cell_type": "markdown",
   "source": [
    "## Read Training .wav Files and Save as Spectrograms"
   ],
   "metadata": {
    "collapsed": false
   }
  },
  {
   "cell_type": "code",
   "execution_count": 21,
   "outputs": [
    {
     "name": "stdout",
     "text": [
      "../res/spectrogram/train/00907299\n",
      "../res/spectrogram/train/00907479\n",
      "../res/spectrogram/train/00907482\n"
     ],
     "output_type": "stream"
    }
   ],
   "source": [
    "print(\"Number of train .wav files in audio folder:\", len(train_wav_names))\n",
    "training_wav, training_srs, training_labels = read_audio(train_wav_names, train_wav_path, True)\n",
    "\n",
    "save_audio_as_spectrogram(training_wav,\n",
    "                          training_srs,\n",
    "                          train_wav_names,\n",
    "                          train_spectro_path)"
   ],
   "metadata": {
    "collapsed": false,
    "pycharm": {
     "name": "#%%\n",
     "is_executing": false
    }
   }
  },
  {
   "cell_type": "markdown",
   "source": [
    "## Read Testing .wav Files and Save as Spectrograms"
   ],
   "metadata": {
    "collapsed": false
   }
  },
  {
   "cell_type": "code",
   "execution_count": null,
   "outputs": [],
   "source": [
    "print(\"Number of train .wav files in audio folder:\", len(test_wav_names))\n",
    "testing_wav, testing_srs = read_audio(test_wav_names, test_wav_path, False)\n",
    "\n",
    "save_audio_as_spectrogram(testing_wav,\n",
    "                          testing_srs,\n",
    "                          test_wav_names,\n",
    "                          test_spectro_path)"
   ],
   "metadata": {
    "collapsed": false,
    "pycharm": {
     "name": "#%%    \n",
     "is_executing": false
    }
   }
  },
  {
   "cell_type": "markdown",
   "source": [
    "## Read Training & Testing Spectrogram PNGs"
   ],
   "metadata": {
    "collapsed": false
   }
  },
  {
   "cell_type": "code",
   "execution_count": null,
   "outputs": [],
   "source": [
    "training_x = read_spectrogram(train_spectro_path, train_spectro_names)\n",
    "testing_x = read_spectrogram(test_spectro_path, test_spectro_names)"
   ],
   "metadata": {
    "collapsed": false,
    "pycharm": {
     "name": "#%%\n"
    }
   }
  },
  {
   "cell_type": "markdown",
   "source": [
    "# TF Training"
   ],
   "metadata": {
    "collapsed": false
   }
  },
  {
   "cell_type": "code",
   "source": [
    "model = keras.models.Sequential([\n",
    "    layers.Flatten(input_shape=(28, 28)),\n",
    "    layers.Conv2D()\n",
    "])\n",
    "# model = keras.Model(inputs=inputs, outputs=outputs)\n"
   ],
   "metadata": {
    "collapsed": false,
    "pycharm": {
     "name": "#%%\n",
     "is_executing": false
    }
   },
   "execution_count": null,
   "outputs": []
  }
 ],
 "metadata": {
  "kernelspec": {
   "display_name": "Python 3",
   "language": "python",
   "name": "python3"
  },
  "language_info": {
   "codemirror_mode": {
    "name": "ipython",
    "version": 2
   },
   "file_extension": ".py",
   "mimetype": "text/x-python",
   "name": "python",
   "nbconvert_exporter": "python",
   "pygments_lexer": "ipython2",
   "version": "2.7.6"
  }
 },
 "nbformat": 4,
 "nbformat_minor": 0
}